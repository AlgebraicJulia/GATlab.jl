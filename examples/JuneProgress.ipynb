{
 "cells": [
  {
   "cell_type": "code",
   "execution_count": 1,
   "id": "37c8fa05-acb7-4f9a-96e2-26de0d995140",
   "metadata": {
    "tags": []
   },
   "outputs": [
    {
     "name": "stderr",
     "output_type": "stream",
     "text": [
      "\u001b[32m\u001b[1m  Activating\u001b[22m\u001b[39m project at `~/g/AlgebraicJulia/Gatlab.jl/test`\n"
     ]
    }
   ],
   "source": [
    "import Pkg; Pkg.activate(\"../test\")"
   ]
  },
  {
   "cell_type": "markdown",
   "id": "24de993f-ae02-430c-9214-75c2d3a758ab",
   "metadata": {},
   "source": [
    "Catlab is supposed to be a computer algebra system; I've been working on the\n",
    "actual computer algebra capabilities, in a package called Gatlab (Generalized\n",
    "Algebraic Theories)"
   ]
  },
  {
   "cell_type": "markdown",
   "id": "e437f114-9bfd-4f17-b73a-ce67244f8d3a",
   "metadata": {},
   "source": [
    "What is the difference between:\n",
    "- MathML\n",
    "- Symbolics/SciML expressions\n",
    "- GAT expressions\n",
    "?\n",
    "\n",
    "First of all, MathML is a serialization/presentation format. In order to work\n",
    "with it in a programming language, we need datastructures and libraries that\n",
    "allow us to actually access the semantic meaning of the expressions.\n",
    "\n",
    "Symbolics/SciML expressions do a great job of this, but make some design choices\n",
    "that make them not ideal for our uses. Namely, for reasons having to do with\n",
    "variable scoping, a SciML model is really like a \"model factory\", which creates\n",
    "fresh variables on every invocation. The problem is that this, being an arbitrary\n",
    "Julia function, isn't introspectable/serializable.\n",
    "\n",
    "Additionally, the tight integration with Julia and the ability to interface with\n",
    "arbitrary Julia code means that while import from MathML to SciML expressions\n",
    "has been implemented, SciML to MathML is significantly trickier."
   ]
  },
  {
   "cell_type": "markdown",
   "id": "cfac41f7-8ecc-4fb6-9752-9967f51f010d",
   "metadata": {},
   "source": [
    "This isn't a bad choice for what SciML does most of the time, but it imposes\n",
    "limitations for our vision of \"serializable models.\" Being able to \"roundtrip\"\n",
    "serialization is important for implementing model manipulation operations.\n",
    "\n",
    "So you can think of Gatlab as a \"serializable-first\" computer algebra system,\n",
    "built from the ground up to work with data structures for symbolic computing\n",
    "that are interoperable between different programming languages, just like how\n",
    "acsets are now serializable between Python and Julia.\n",
    "\n",
    "Of course, there are still many uses for Symbolics.jl and MathML expressions.\n",
    "MathML is a good serialization format for the expressions themselves, and\n",
    "Symbolics.jl is a must to integrate with all of the fantastic SciML ecosystem\n",
    "libraries, so Gatlab converts bidirectionally with fragments of MathML and\n",
    "Symbolics.jl (i.e., Gatlab -> MathML, Gatlab -> SciML always works, but\n",
    "arbitrary MathML/Symbolics.jl expressions may not be well-formed enough to be\n",
    "converted)."
   ]
  },
  {
   "cell_type": "code",
   "execution_count": 2,
   "id": "97a03ad2-dd7d-4705-9dc5-6f0c0f192a8b",
   "metadata": {
    "tags": []
   },
   "outputs": [
    {
     "name": "stderr",
     "output_type": "stream",
     "text": [
      "\u001b[36m\u001b[1m[ \u001b[22m\u001b[39m\u001b[36m\u001b[1mInfo: \u001b[22m\u001b[39mPrecompiling Gatlab [f0ffcf3b-d13a-433e-917c-cc44ccf5ead2]\n",
      "\u001b[36m\u001b[1m[ \u001b[22m\u001b[39m\u001b[36m\u001b[1mInfo: \u001b[22m\u001b[39mPrecompiling GatlabSciMLExt [15878fac-8bdd-50c2-a9e9-8cf61912daeb]\n"
     ]
    }
   ],
   "source": [
    "using Revise, ModelingToolkit, Gatlab"
   ]
  },
  {
   "cell_type": "code",
   "execution_count": 3,
   "id": "6b743252-a94c-4a23-9b93-4f3ab305807c",
   "metadata": {
    "tags": []
   },
   "outputs": [
    {
     "data": {
      "text/latex": [
       "$$ \\begin{equation}\n",
       "\\left[\n",
       "\\begin{array}{c}\n",
       "a \\\\\n",
       "b \\\\\n",
       "\\end{array}\n",
       "\\right]\n",
       "\\end{equation}\n",
       " $$"
      ],
      "text/plain": [
       "2-element Vector{Num}:\n",
       " a\n",
       " b"
      ]
     },
     "execution_count": 3,
     "metadata": {},
     "output_type": "execute_result"
    }
   ],
   "source": [
    "@variables a, b"
   ]
  },
  {
   "cell_type": "code",
   "execution_count": 10,
   "id": "f1344588-8fbb-4b37-9c4a-3cdbb05d454e",
   "metadata": {
    "tags": []
   },
   "outputs": [
    {
     "data": {
      "text/latex": [
       "$$ \\begin{equation}\n",
       "a + 2.5 b\n",
       "\\end{equation}\n",
       " $$"
      ],
      "text/plain": [
       "a + 2.5b"
      ]
     },
     "execution_count": 10,
     "metadata": {},
     "output_type": "execute_result"
    }
   ],
   "source": [
    "expr = a + 2.5b"
   ]
  },
  {
   "cell_type": "code",
   "execution_count": 5,
   "id": "b67292dc-33a3-4353-ab84-25f8a08c33ea",
   "metadata": {
    "tags": []
   },
   "outputs": [
    {
     "data": {
      "text/plain": [
       "GatlabSciMLExt"
      ]
     },
     "execution_count": 5,
     "metadata": {},
     "output_type": "execute_result"
    }
   ],
   "source": [
    "GatlabSciMLExt = Base.get_extension(Gatlab, :GatlabSciMLExt)"
   ]
  },
  {
   "cell_type": "code",
   "execution_count": 6,
   "id": "f46f2fb8-6c18-4a71-b790-8c839592ba93",
   "metadata": {
    "tags": []
   },
   "outputs": [
    {
     "data": {
      "text/plain": [
       "Dict{Num, ATrmCon} with 2 entries:\n",
       "  a => ATrmCon({1}, ATrm[])\n",
       "  b => ATrmCon({2}, ATrm[])"
      ]
     },
     "execution_count": 6,
     "metadata": {},
     "output_type": "execute_result"
    }
   ],
   "source": [
    "genmap = Dict(a => ATrmCon(Lvl(1; context=true)), b => ATrmCon(Lvl(2; context=true)))"
   ]
  },
  {
   "cell_type": "code",
   "execution_count": 11,
   "id": "fc152745-5222-49ba-a403-67735936bb29",
   "metadata": {
    "tags": []
   },
   "outputs": [
    {
     "data": {
      "text/plain": [
       "ATrmCon(2, ATrm[ATrmCon({1}, ATrm[]), ATrmCon(11, ATrm[Const(ATyp(1, ATrm[]), 2.5), ATrmCon({2}, ATrm[])])])"
      ]
     },
     "execution_count": 11,
     "metadata": {},
     "output_type": "execute_result"
    }
   ],
   "source": [
    "GatlabSciMLExt.convert_term(\n",
    "    expr.val,\n",
    "    GatlabSciMLExt.ELEMENTARY_FUNCTION_OPMAP,\n",
    "    genmap,\n",
    "    ATrm;\n",
    "    interp_val=(x -> interp_val(AThRealAlg(), x))\n",
    ")"
   ]
  },
  {
   "cell_type": "code",
   "execution_count": null,
   "id": "f95a5bba-5d96-4e1f-9fa2-fcdff8315e8d",
   "metadata": {},
   "outputs": [],
   "source": []
  }
 ],
 "metadata": {
  "kernelspec": {
   "display_name": "Julia 1.9.0",
   "language": "julia",
   "name": "julia-1.9"
  },
  "language_info": {
   "file_extension": ".jl",
   "mimetype": "application/julia",
   "name": "julia",
   "version": "1.9.0"
  }
 },
 "nbformat": 4,
 "nbformat_minor": 5
}
