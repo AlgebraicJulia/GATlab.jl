{
 "cells": [
  {
   "outputs": [
    {
     "output_type": "execute_result",
     "data": {
      "text/plain": "Main.var\"##293\".VaxModel"
     },
     "metadata": {},
     "execution_count": 1
    }
   ],
   "cell_type": "code",
   "source": [
    "module VaxModel\n",
    "\n",
    "using Gatlab\n",
    "using ModelingToolkit\n",
    "\n",
    "vax_production = @lens ThElementary begin\n",
    "  dom = [C, VP, t] | [dC, dVP, dt]\n",
    "  codom = [C, VP] | [C_max, α, τ, I]\n",
    "  #expose = [C,VP]\n",
    "  expose = begin\n",
    "    C = C\n",
    "    VP = VP\n",
    "  end\n",
    "  update = begin\n",
    "    dC = C_max * sigmoid(I * α)\n",
    "    dVP = τ * C + (-sin(t))\n",
    "    dt = one\n",
    "  end\n",
    "end\n",
    "\n",
    "sirv = @lens ThElementary begin\n",
    "  dom = [S, I, R, V] | [dS, dI, dR, dV]\n",
    "  codom = [S, I, R, V] | [β, γ, v]\n",
    "  expose = begin\n",
    "    S = S\n",
    "    I = I\n",
    "    R = R\n",
    "    V = V\n",
    "  end\n",
    "  update = begin\n",
    "    dS = - β * (I * S) + (-v * S)\n",
    "    dI = β * (I * S) + (-γ * I)\n",
    "    dR = γ * I\n",
    "    dV = v * S\n",
    "  end\n",
    "end\n",
    "\n",
    "wiring = @lens ThElementary begin\n",
    "  dom = [S, I, R, V, C, VP] | [β, γ, v, C_max, α, τ, I]\n",
    "  codom = [S, I, R, V] | [C_max, α, β, γ, τ]\n",
    "  expose = begin\n",
    "    S = S\n",
    "    I = I\n",
    "    R = R\n",
    "    V = V\n",
    "  end\n",
    "  update = begin\n",
    "    β = β\n",
    "    γ = γ\n",
    "    v = VP\n",
    "    C_max = C_max\n",
    "    α = α\n",
    "    τ = τ\n",
    "    I = I\n",
    "  end\n",
    "end\n",
    "\n",
    "composed = Gatlab.compose(mcompose(sirv, vax_production), wiring)\n",
    "\n",
    "@named sys = ODESystem(composed)\n",
    "\n",
    "end"
   ],
   "metadata": {},
   "execution_count": 1
  }
 ],
 "nbformat_minor": 3,
 "metadata": {
  "language_info": {
   "file_extension": ".jl",
   "mimetype": "application/julia",
   "name": "julia",
   "version": "1.9.1"
  },
  "kernelspec": {
   "name": "julia-1.9",
   "display_name": "Julia 1.9.1",
   "language": "julia"
  }
 },
 "nbformat": 4
}
